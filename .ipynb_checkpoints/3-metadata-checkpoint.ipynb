{
 "cells": [
  {
   "cell_type": "code",
   "execution_count": null,
   "id": "203a7795-b6a5-45df-8712-e349785cec55",
   "metadata": {},
   "outputs": [],
   "source": []
  },
  {
   "cell_type": "markdown",
   "id": "a814b34a-727d-4f92-aa49-af67c0c3d165",
   "metadata": {},
   "source": [
    "### Resources\n",
    "\n",
    "[MetadataSEC](https://docs.llamaindex.ai/en/stable/examples/metadata_extraction/MetadataExtractionSEC.html)"
   ]
  },
  {
   "cell_type": "code",
   "execution_count": null,
   "id": "5e5a5cb5-400e-452f-b60a-ec7c42699d1e",
   "metadata": {},
   "outputs": [],
   "source": []
  }
 ],
 "metadata": {
  "kernelspec": {
   "display_name": "Python 3 (ipykernel)",
   "language": "python",
   "name": "python3"
  },
  "language_info": {
   "codemirror_mode": {
    "name": "ipython",
    "version": 3
   },
   "file_extension": ".py",
   "mimetype": "text/x-python",
   "name": "python",
   "nbconvert_exporter": "python",
   "pygments_lexer": "ipython3",
   "version": "3.10.13"
  }
 },
 "nbformat": 4,
 "nbformat_minor": 5
}
