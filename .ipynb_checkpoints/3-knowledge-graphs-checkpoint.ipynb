{
 "cells": [
  {
   "cell_type": "code",
   "execution_count": null,
   "id": "699877a4-a527-43ff-af7c-24cc628ea9e8",
   "metadata": {},
   "outputs": [],
   "source": []
  },
  {
   "cell_type": "markdown",
   "id": "dbdf402b-d274-41fc-a282-b7afcc415142",
   "metadata": {},
   "source": [
    "### Knowledge Graph Index"
   ]
  },
  {
   "cell_type": "markdown",
   "id": "6c16e794-5d38-4c82-a2e7-b4afa7f914ae",
   "metadata": {},
   "source": [
    "See the following article for information about knowledge graphs.\n",
    "\n",
    "[Knowledge Graph](https://en.wikipedia.org/wiki/Knowledge_graph)"
   ]
  },
  {
   "cell_type": "code",
   "execution_count": null,
   "id": "5a033aaf-7d5a-4988-bc30-45e3f77e0347",
   "metadata": {},
   "outputs": [],
   "source": [
    "from llama_index.indices.knowledge_graph import GPTKnowledgeGraphIndex\n",
    "index = GPTKnowledgeGraphIndex.from_documents(documents, service_context=service_context)\n",
    "query_engine = index.as_query_engine()"
   ]
  }
 ],
 "metadata": {
  "kernelspec": {
   "display_name": "Python 3 (ipykernel)",
   "language": "python",
   "name": "python3"
  },
  "language_info": {
   "codemirror_mode": {
    "name": "ipython",
    "version": 3
   },
   "file_extension": ".py",
   "mimetype": "text/x-python",
   "name": "python",
   "nbconvert_exporter": "python",
   "pygments_lexer": "ipython3",
   "version": "3.10.13"
  }
 },
 "nbformat": 4,
 "nbformat_minor": 5
}
